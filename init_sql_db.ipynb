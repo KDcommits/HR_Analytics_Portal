{
 "cells": [
  {
   "cell_type": "code",
   "execution_count": 1,
   "metadata": {},
   "outputs": [],
   "source": [
    "import os\n",
    "from dotenv import load_dotenv\n",
    "load_dotenv()\n",
    "import mysql.connector\n",
    "\n",
    "db_config = {\n",
    "    \"host\": os.getenv('DB_HOST'),\n",
    "    \"user\": os.getenv('DB_USERNAME'),\n",
    "    \"password\": os.getenv('DB_PASSWORD'),\n",
    "    \"database\": os.getenv('DB_NAME'),\n",
    "}\n",
    "\n",
    "## Connecting to the mysql database to store user \n",
    "conn = mysql.connector.connect(**db_config)\n",
    "cursor = conn.cursor()"
   ]
  },
  {
   "cell_type": "code",
   "execution_count": 8,
   "metadata": {},
   "outputs": [],
   "source": [
    "cursor.execute(\"CREATE TABLE users ( \\\n",
    "    ID VARCHAR(30) NOT NULL,\\\n",
    "    email VARCHAR(100) NOT NULL,\\\n",
    "    password VARCHAR(100) NOT NULL\\\n",
    ");\")\n",
    "conn.close()"
   ]
  },
  {
   "cell_type": "code",
   "execution_count": 7,
   "metadata": {},
   "outputs": [],
   "source": [
    "# cursor.execute(\"DROP TABLE users;\")"
   ]
  },
  {
   "cell_type": "code",
   "execution_count": 2,
   "metadata": {},
   "outputs": [],
   "source": [
    "cursor.execute(\"CREATE TABLE candidates ( \\\n",
    "    ID VARCHAR(30) NOT NULL,\\\n",
    "    email VARCHAR(100) NOT NULL,\\\n",
    "    password VARCHAR(100) NOT NULL\\\n",
    ");\")\n",
    "conn.close()"
   ]
  },
  {
   "cell_type": "code",
   "execution_count": null,
   "metadata": {},
   "outputs": [],
   "source": []
  }
 ],
 "metadata": {
  "kernelspec": {
   "display_name": "chatbot",
   "language": "python",
   "name": "python3"
  },
  "language_info": {
   "codemirror_mode": {
    "name": "ipython",
    "version": 3
   },
   "file_extension": ".py",
   "mimetype": "text/x-python",
   "name": "python",
   "nbconvert_exporter": "python",
   "pygments_lexer": "ipython3",
   "version": "3.8.16"
  },
  "orig_nbformat": 4
 },
 "nbformat": 4,
 "nbformat_minor": 2
}
